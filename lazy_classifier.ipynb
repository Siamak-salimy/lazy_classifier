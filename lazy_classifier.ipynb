{
  "nbformat": 4,
  "nbformat_minor": 0,
  "metadata": {
    "colab": {
      "provenance": []
    },
    "kernelspec": {
      "name": "python3",
      "display_name": "Python 3"
    },
    "language_info": {
      "name": "python"
    }
  },
  "cells": [
    {
      "cell_type": "code",
      "source": [
        "!pip install lazypredict"
      ],
      "metadata": {
        "id": "CvW7ja6LYzpx"
      },
      "execution_count": null,
      "outputs": []
    },
    {
      "cell_type": "code",
      "execution_count": 7,
      "metadata": {
        "id": "ECq8pXq2YGpR"
      },
      "outputs": [],
      "source": [
        "from lazypredict.Supervised import LazyClassifier\n",
        "from sklearn.datasets import load_breast_cancer\n",
        "from sklearn.model_selection import train_test_split\n"
      ]
    },
    {
      "cell_type": "code",
      "source": [
        "from numpy.lib.npyio import load\n",
        "data =load_breast_cancer()\n",
        "X = data.data\n",
        "y = data.target"
      ],
      "metadata": {
        "id": "VoqzZOeBZcMZ"
      },
      "execution_count": 8,
      "outputs": []
    },
    {
      "cell_type": "code",
      "source": [
        "X_train , X_test , y_train , y_test = train_test_split(X,y , test_size= 0.2 , random_state= 123)"
      ],
      "metadata": {
        "id": "11jM1fdpZ5-H"
      },
      "execution_count": 18,
      "outputs": []
    },
    {
      "cell_type": "code",
      "source": [
        "clf = LazyClassifier(verbose=0 , ignore_warnings=True , custom_metric=None)"
      ],
      "metadata": {
        "id": "2wd76T0ea3Do"
      },
      "execution_count": 19,
      "outputs": []
    },
    {
      "cell_type": "code",
      "source": [
        "models , predictions = clf.fit(X_train , X_test , y_train , y_test)"
      ],
      "metadata": {
        "colab": {
          "base_uri": "https://localhost:8080/"
        },
        "id": "7izXxnCSbLnP",
        "outputId": "9e0f9d32-aaf6-4524-d206-e2393fbb954c"
      },
      "execution_count": 20,
      "outputs": [
        {
          "output_type": "stream",
          "name": "stderr",
          "text": [
            "100%|██████████| 29/29 [00:01<00:00, 15.79it/s]\n"
          ]
        }
      ]
    },
    {
      "cell_type": "code",
      "source": [
        "print(models)"
      ],
      "metadata": {
        "colab": {
          "base_uri": "https://localhost:8080/"
        },
        "id": "1OQ9-DIVbjK_",
        "outputId": "2e522945-cf70-4903-aba0-76a53e002e47"
      },
      "execution_count": 21,
      "outputs": [
        {
          "output_type": "stream",
          "name": "stdout",
          "text": [
            "                               Accuracy  Balanced Accuracy  ROC AUC  F1 Score  \\\n",
            "Model                                                                           \n",
            "LinearSVC                          0.99               0.99     0.99      0.99   \n",
            "LogisticRegression                 0.99               0.99     0.99      0.99   \n",
            "SGDClassifier                      0.99               0.99     0.99      0.99   \n",
            "RandomForestClassifier             0.99               0.99     0.99      0.99   \n",
            "QuadraticDiscriminantAnalysis      0.99               0.99     0.99      0.99   \n",
            "ExtraTreesClassifier               0.99               0.99     0.99      0.99   \n",
            "Perceptron                         0.99               0.99     0.99      0.99   \n",
            "SVC                                0.98               0.98     0.98      0.98   \n",
            "CalibratedClassifierCV             0.98               0.98     0.98      0.98   \n",
            "KNeighborsClassifier               0.98               0.98     0.98      0.98   \n",
            "PassiveAggressiveClassifier        0.98               0.98     0.98      0.98   \n",
            "LabelPropagation                   0.97               0.97     0.97      0.97   \n",
            "LabelSpreading                     0.97               0.97     0.97      0.97   \n",
            "BaggingClassifier                  0.97               0.97     0.97      0.97   \n",
            "AdaBoostClassifier                 0.97               0.97     0.97      0.97   \n",
            "DecisionTreeClassifier             0.97               0.97     0.97      0.97   \n",
            "LGBMClassifier                     0.97               0.97     0.97      0.97   \n",
            "LinearDiscriminantAnalysis         0.97               0.96     0.96      0.97   \n",
            "RidgeClassifier                    0.97               0.96     0.96      0.97   \n",
            "RidgeClassifierCV                  0.97               0.96     0.96      0.97   \n",
            "BernoulliNB                        0.96               0.96     0.96      0.96   \n",
            "XGBClassifier                      0.96               0.96     0.96      0.96   \n",
            "NearestCentroid                    0.96               0.94     0.94      0.96   \n",
            "NuSVC                              0.96               0.94     0.94      0.96   \n",
            "GaussianNB                         0.96               0.94     0.94      0.96   \n",
            "ExtraTreeClassifier                0.93               0.92     0.92      0.93   \n",
            "DummyClassifier                    0.64               0.50     0.50      0.50   \n",
            "\n",
            "                               Time Taken  \n",
            "Model                                      \n",
            "LinearSVC                            0.06  \n",
            "LogisticRegression                   0.04  \n",
            "SGDClassifier                        0.05  \n",
            "RandomForestClassifier               0.33  \n",
            "QuadraticDiscriminantAnalysis        0.02  \n",
            "ExtraTreesClassifier                 0.17  \n",
            "Perceptron                           0.02  \n",
            "SVC                                  0.05  \n",
            "CalibratedClassifierCV               0.06  \n",
            "KNeighborsClassifier                 0.02  \n",
            "PassiveAggressiveClassifier          0.03  \n",
            "LabelPropagation                     0.03  \n",
            "LabelSpreading                       0.04  \n",
            "BaggingClassifier                    0.09  \n",
            "AdaBoostClassifier                   0.25  \n",
            "DecisionTreeClassifier               0.03  \n",
            "LGBMClassifier                       0.17  \n",
            "LinearDiscriminantAnalysis           0.04  \n",
            "RidgeClassifier                      0.02  \n",
            "RidgeClassifierCV                    0.04  \n",
            "BernoulliNB                          0.02  \n",
            "XGBClassifier                        0.10  \n",
            "NearestCentroid                      0.02  \n",
            "NuSVC                                0.06  \n",
            "GaussianNB                           0.01  \n",
            "ExtraTreeClassifier                  0.02  \n",
            "DummyClassifier                      0.01  \n"
          ]
        }
      ]
    }
  ]
}