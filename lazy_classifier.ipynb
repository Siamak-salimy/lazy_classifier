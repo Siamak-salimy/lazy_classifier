{
  "nbformat": 4,
  "nbformat_minor": 0,
  "metadata": {
    "colab": {
      "provenance": [],
      "authorship_tag": "ABX9TyOUpij41hxbxxVC8iPrLOTw",
      "include_colab_link": true
    },
    "kernelspec": {
      "name": "python3",
      "display_name": "Python 3"
    },
    "language_info": {
      "name": "python"
    }
  },
  "cells": [
    {
      "cell_type": "markdown",
      "metadata": {
        "id": "view-in-github",
        "colab_type": "text"
      },
      "source": [
        "<a href=\"https://colab.research.google.com/github/Siamak-salimy/lazy_classifier/blob/main/lazy_classifier.ipynb\" target=\"_parent\"><img src=\"https://colab.research.google.com/assets/colab-badge.svg\" alt=\"Open In Colab\"/></a>"
      ]
    },
    {
      "cell_type": "markdown",
      "source": [
        "# Install the lazypredict package"
      ],
      "metadata": {
        "id": "ITHAW3zefnlX"
      }
    },
    {
      "cell_type": "code",
      "source": [
        "!pip install lazypredict"
      ],
      "metadata": {
        "id": "CvW7ja6LYzpx"
      },
      "execution_count": null,
      "outputs": []
    },
    {
      "cell_type": "markdown",
      "source": [
        "##Import the LazyClassifier class from the lazypredict.Supervised module\n",
        "##Import the load_breast_cancer function from the sklearn.datasets module\n",
        "##Import the train_test_split function from the sklearn.model_selection module\n"
      ],
      "metadata": {
        "id": "wOoz3LqCfsgP"
      }
    },
    {
      "cell_type": "code",
      "execution_count": 7,
      "metadata": {
        "id": "ECq8pXq2YGpR"
      },
      "outputs": [],
      "source": [
        "from lazypredict.Supervised import LazyClassifier\n",
        "from sklearn.datasets import load_breast_cancer\n",
        "from sklearn.model_selection import train_test_split\n"
      ]
    },
    {
      "cell_type": "markdown",
      "source": [
        "##Load the breast cancer dataset using the load_breast_cancer function"
      ],
      "metadata": {
        "id": "oMl1U85_gSO3"
      }
    },
    {
      "cell_type": "code",
      "source": [
        "data =load_breast_cancer()\n",
        "X = data.data\n",
        "y = data.target"
      ],
      "metadata": {
        "id": "VoqzZOeBZcMZ"
      },
      "execution_count": 8,
      "outputs": []
    },
    {
      "cell_type": "markdown",
      "source": [
        "##Split the dataset into training and testing sets with a test size of 20% and a random state of 123"
      ],
      "metadata": {
        "id": "7ybvUZ3Efzme"
      }
    },
    {
      "cell_type": "code",
      "source": [
        "X_train , X_test , y_train , y_test = train_test_split(X,y , test_size= 0.2 , random_state= 123)"
      ],
      "metadata": {
        "id": "11jM1fdpZ5-H"
      },
      "execution_count": 18,
      "outputs": []
    },
    {
      "cell_type": "markdown",
      "source": [
        "##Create an instance of the LazyClassifier class with some configuration options"
      ],
      "metadata": {
        "id": "pBcCzE-vgc5v"
      }
    },
    {
      "cell_type": "code",
      "source": [
        "clf = LazyClassifier(verbose=0 , ignore_warnings=True , custom_metric=None)"
      ],
      "metadata": {
        "id": "2wd76T0ea3Do"
      },
      "execution_count": 19,
      "outputs": []
    },
    {
      "cell_type": "markdown",
      "source": [
        "##Train the models using the training data and store the trained models and their predictions in a tuple"
      ],
      "metadata": {
        "id": "wtxAavhCgiwX"
      }
    },
    {
      "cell_type": "code",
      "source": [
        "models , predictions = clf.fit(X_train , X_test , y_train , y_test)"
      ],
      "metadata": {
        "id": "7izXxnCSbLnP"
      },
      "execution_count": null,
      "outputs": []
    },
    {
      "cell_type": "markdown",
      "source": [
        "##Print out the trained models"
      ],
      "metadata": {
        "id": "OXidjxBygmBX"
      }
    },
    {
      "cell_type": "code",
      "source": [
        "print(models)"
      ],
      "metadata": {
        "id": "1OQ9-DIVbjK_"
      },
      "execution_count": null,
      "outputs": []
    }
  ]
}